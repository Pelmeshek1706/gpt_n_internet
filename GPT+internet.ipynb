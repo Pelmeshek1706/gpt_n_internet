{
  "cells": [
    {
      "cell_type": "code",
      "source": [
        "import os\n",
        "import openai\n",
        "\n",
        "\n",
        "from langchain.utilities import GoogleSerperAPIWrapper\n",
        "from langchain.agents import Tool\n",
        "from langchain.prompts import ChatPromptTemplate\n",
        "from langchain.chains import LLMChain\n",
        "from langchain.agents import initialize_agent\n",
        "from langchain.chat_models import AzureChatOpenAI\n"
      ],
      "outputs": [],
      "execution_count": 1,
      "metadata": {
        "gather": {
          "logged": 1702539880323
        }
      }
    },
    {
      "cell_type": "code",
      "source": [
        "\n",
        "os.environ[\"OPENAI_API_TYPE\"] = \"...\"\n",
        "os.environ[\"OPENAI_API_VERSION\"] = \"<your-version>\"\n",
        "os.environ[\"OPENAI_API_BASE\"] = \"https://<your-api-base>.com/\"\n",
        "os.environ[\"OPENAI_API_KEY\"] = '<your_api_key>'\n",
        "\n",
        "os.environ[\"SERPER_API_KEY\"] = \"<replace-me>\"\n",
        "llm = AzureChatOpenAI(\n",
        "    deployment_name=\"<your_model_name>\",\n",
        "    openai_api_version=\"<your-version>\",\n",
        ")\n"
      ],
      "outputs": [],
      "execution_count": 6,
      "metadata": {
        "jupyter": {
          "source_hidden": false,
          "outputs_hidden": false
        },
        "nteract": {
          "transient": {
            "deleting": false
          }
        },
        "gather": {
          "logged": 1702540111771
        }
      }
    },
    {
      "cell_type": "code",
      "source": [
        "\n",
        "default_prompt = ChatPromptTemplate.from_template(\"{input}\")\n",
        "default_chain = LLMChain(llm=llm, prompt=default_prompt)    \n",
        "\n",
        "google_search = GoogleSerperAPIWrapper()\n",
        "\n",
        "tools = [\n",
        "            Tool(\n",
        "                name=\"Google Search\",\n",
        "                func=google_search.run,\n",
        "                description=\"Designed for conducting Google searches, particularly for information not available in the GPT's database. This is the default tool for queries requiring the most recent information.\",\n",
        "            ),\n",
        "            Tool(\n",
        "                name=\"GPT request\",\n",
        "                func=default_chain.run,\n",
        "                description=\"Serves as the default request tool, capable of tasks such as code writing and answering questions without the need for a Google search. Useful when the user's query can be answered directly.\",\n",
        "            )\n",
        "        ]\n",
        "\n",
        "agent = initialize_agent(\n",
        "tools, llm, agent=\"zero-shot-react-description\", verbose=True\n",
        ")\n"
      ],
      "outputs": [],
      "execution_count": 3,
      "metadata": {
        "jupyter": {
          "source_hidden": false,
          "outputs_hidden": false
        },
        "nteract": {
          "transient": {
            "deleting": false
          }
        },
        "gather": {
          "logged": 1702539899310
        }
      }
    },
    {
      "cell_type": "code",
      "source": [
        "\n",
        "print(agent.run(\"Write Simple python function\"))"
      ],
      "outputs": [
        {
          "output_type": "stream",
          "name": "stdout",
          "text": "\n\n\u001b[1m> Entering new AgentExecutor chain...\u001b[0m\n\u001b[32;1m\u001b[1;3mThe user is asking for a simple Python function to be written. This is a task that can be completed without the need for a Google search, as GPT-3 can generate Python code.\nAction: GPT request\nAction Input: Write a simple function in Python\u001b[0m\nObservation: \u001b[33;1m\u001b[1;3mHere's a simple function in Python that adds two numbers:\n\n```python\ndef add_two_numbers(num1, num2):\n    return num1 + num2\n```\n\nYou can call this function with two numbers to get their sum. For example:\n\n```python\nprint(add_two_numbers(5, 3))  # Outputs: 8\n```\u001b[0m\nThought:\u001b[32;1m\u001b[1;3mI now know the final answer\nFinal Answer: Here's a simple function in Python that adds two numbers:\n\n```python\ndef add_two_numbers(num1, num2):\n    return num1 + num2\n```\n\nYou can call this function with two numbers to get their sum. For example:\n\n```python\nprint(add_two_numbers(5, 3))  # Outputs: 8\n```\u001b[0m\n\n\u001b[1m> Finished chain.\u001b[0m\nHere's a simple function in Python that adds two numbers:\n\n```python\ndef add_two_numbers(num1, num2):\n    return num1 + num2\n```\n\nYou can call this function with two numbers to get their sum. For example:\n\n```python\nprint(add_two_numbers(5, 3))  # Outputs: 8\n```\n"
        }
      ],
      "execution_count": 4,
      "metadata": {
        "jupyter": {
          "source_hidden": false,
          "outputs_hidden": false
        },
        "nteract": {
          "transient": {
            "deleting": false
          }
        },
        "gather": {
          "logged": 1702539930556
        }
      }
    },
    {
      "cell_type": "code",
      "source": [
        "print(agent.run(\"Harry Styles biography\"))"
      ],
      "outputs": [
        {
          "output_type": "stream",
          "name": "stdout",
          "text": "\n\n\u001b[1m> Entering new AgentExecutor chain...\u001b[0m\n\u001b[32;1m\u001b[1;3mThe biography of Harry Styles would include information about his early life, career, and personal life. This information can be obtained directly from the GPT's database.\nAction: GPT request\nAction Input: Tell me about Harry Styles' early life, career, and personal life.\u001b[0m\nObservation: \u001b[33;1m\u001b[1;3mEarly Life:\nHarry Edward Styles was born on February 1, 1994, in Redditch, Worcestershire, England. He is the son of Anne Cox and Desmond Styles. His parents divorced when he was seven years old, and his mother later remarried. Styles has an older sister named Gemma. He attended Holmes Chapel Comprehensive School, where he was the lead singer for the band White Eskimo, which won a local Battle of the Bands competition.\n\nCareer:\nStyles' career began in 2010 when he auditioned as a solo contestant on the British music competition series \"The X Factor.\" After being eliminated early on, he was brought back to join the boy band One Direction, which also included Niall Horan, Zayn Malik, Liam Payne, and Louis Tomlinson. The band finished in third place and was subsequently signed by Simon Cowell to his record label, Syco Records.\n\nOne Direction became a global sensation, releasing five albums and embarking on four world tours. However, in 2015, the band decided to take an indefinite hiatus. Styles then signed a recording contract with Columbia Records as a solo artist in 2016.\n\nIn 2017, Styles released his self-titled debut album, which was a commercial success. It debuted at number one on the UK Albums Chart and the US Billboard 200, and its lead single, \"Sign of the Times,\" topped the UK Singles Chart. Styles also ventured into acting, making his film debut in Christopher Nolan's war film \"Dunkirk\" (2017).\n\nIn 2019, Styles released his second album, \"Fine Line,\" which also debuted at number one on the Billboard 200, and its single \"Watermelon Sugar\" topped the Billboard Hot 100.\n\nPersonal Life:\nStyles is known for his flamboyant fashion sense and has been a fashion icon throughout his career. He was named the \"Most Stylish Man\" by GQ in their 2020 Men of the Year issue. His dating life has also been the subject of media attention; he has been linked to a number of high-profile women, including Taylor Swift and Kendall Jenner.\n\nStyles is also involved in numerous philanthropic activities. He has worked with organizations such as UNICEF and has raised funds for various causes, including cancer research and mental health awareness.\u001b[0m\nThought:\u001b[32;1m\u001b[1;3mI now know the final answer.\nFinal Answer: Harry Styles was born on February 1, 1994, in Redditch, Worcestershire, England. His career took off when he joined the boy band One Direction in 2010. After the band's hiatus in 2015, Styles pursued a solo career and has released two commercially successful albums. He has also ventured into acting, with a notable role in the film \"Dunkirk\". Known for his flamboyant fashion sense, Styles has been a fashion icon throughout his career. He's also involved in numerous philanthropic activities, working with organizations such as UNICEF and raising funds for various causes.\u001b[0m\n\n\u001b[1m> Finished chain.\u001b[0m\nHarry Styles was born on February 1, 1994, in Redditch, Worcestershire, England. His career took off when he joined the boy band One Direction in 2010. After the band's hiatus in 2015, Styles pursued a solo career and has released two commercially successful albums. He has also ventured into acting, with a notable role in the film \"Dunkirk\". Known for his flamboyant fashion sense, Styles has been a fashion icon throughout his career. He's also involved in numerous philanthropic activities, working with organizations such as UNICEF and raising funds for various causes.\n"
        }
      ],
      "execution_count": 5,
      "metadata": {
        "jupyter": {
          "source_hidden": false,
          "outputs_hidden": false
        },
        "nteract": {
          "transient": {
            "deleting": false
          }
        },
        "gather": {
          "logged": 1702539991121
        }
      }
    }
  ],
  "metadata": {
    "kernelspec": {
      "name": "python38-azureml",
      "language": "python",
      "display_name": "Python 3.8 - AzureML"
    },
    "language_info": {
      "name": "python",
      "version": "3.8.5",
      "mimetype": "text/x-python",
      "codemirror_mode": {
        "name": "ipython",
        "version": 3
      },
      "pygments_lexer": "ipython3",
      "nbconvert_exporter": "python",
      "file_extension": ".py"
    },
    "microsoft": {
      "ms_spell_check": {
        "ms_spell_check_language": "en"
      },
      "host": {
        "AzureML": {
          "notebookHasBeenCompleted": true
        }
      }
    },
    "kernel_info": {
      "name": "python38-azureml"
    },
    "nteract": {
      "version": "nteract-front-end@1.0.0"
    }
  },
  "nbformat": 4,
  "nbformat_minor": 2
}